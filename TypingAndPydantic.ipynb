{
 "cells": [
  {
   "cell_type": "markdown",
   "id": "f3758eba",
   "metadata": {},
   "source": [
    "# Python typing"
   ]
  },
  {
   "cell_type": "code",
   "execution_count": null,
   "id": "cb0a7978",
   "metadata": {},
   "outputs": [],
   "source": [
    "def get_fellows_names(fellow: list[str]) -> list[str]:\n",
    "    return fellow\n",
    "\n",
    "#fellow: list[str] indicates the type of input the function should accept i.e a list of strings\n",
    "# -> list[str] indicates the type of output expected"
   ]
  },
  {
   "cell_type": "code",
   "execution_count": null,
   "id": "1f7e14e5",
   "metadata": {},
   "outputs": [],
   "source": [
    "def get_average(name: str, scores: list[float]) -> float:\n",
    "    average_score = sum(scores)/len(scores)\n",
    "    print(f\"{name}'s average score is {average_score}\")\n",
    "    return average_score"
   ]
  },
  {
   "cell_type": "code",
   "execution_count": null,
   "id": "e1883c37",
   "metadata": {},
   "outputs": [],
   "source": [
    "def greet(name: str) -> None:\n",
    "    print(f'Hello, {name}')"
   ]
  },
  {
   "cell_type": "code",
   "execution_count": 2,
   "id": "c7977c66",
   "metadata": {},
   "outputs": [],
   "source": [
    "def add (a: int, b: int) -> int:\n",
    "    return a + b"
   ]
  },
  {
   "cell_type": "code",
   "execution_count": 3,
   "id": "e80c25b5",
   "metadata": {},
   "outputs": [
    {
     "data": {
      "text/plain": [
       "4.1"
      ]
     },
     "execution_count": 3,
     "metadata": {},
     "output_type": "execute_result"
    }
   ],
   "source": [
    "add(1.3, 2.8)"
   ]
  },
  {
   "cell_type": "markdown",
   "id": "02488f1f",
   "metadata": {},
   "source": [
    "### Typing module"
   ]
  },
  {
   "cell_type": "markdown",
   "id": "85eacfd9",
   "metadata": {},
   "source": [
    "typing module helps to indicate data types/structures for complicated functions and codes. They are usually used to when a function receives or outputs multiple data types"
   ]
  },
  {
   "cell_type": "code",
   "execution_count": null,
   "id": "f8ef7afb",
   "metadata": {},
   "outputs": [],
   "source": [
    "from typing import List, Dict, Union, Optional"
   ]
  }
 ],
 "metadata": {
  "kernelspec": {
   "display_name": "Python 3",
   "language": "python",
   "name": "python3"
  },
  "language_info": {
   "codemirror_mode": {
    "name": "ipython",
    "version": 3
   },
   "file_extension": ".py",
   "mimetype": "text/x-python",
   "name": "python",
   "nbconvert_exporter": "python",
   "pygments_lexer": "ipython3",
   "version": "3.13.6"
  }
 },
 "nbformat": 4,
 "nbformat_minor": 5
}
