{
 "cells": [
  {
   "cell_type": "markdown",
   "id": "f3758eba",
   "metadata": {},
   "source": [
    "# Python typing"
   ]
  },
  {
   "cell_type": "code",
   "execution_count": null,
   "id": "cb0a7978",
   "metadata": {},
   "outputs": [],
   "source": [
    "def get_fellows_names(fellow: list[str]) -> list[str]:\n",
    "    return fellow\n",
    "\n",
    "#fellow: list[str] indicates the type of input the function should accept i.e a list of strings\n",
    "# -> list[str] indicates the type of output expected"
   ]
  },
  {
   "cell_type": "code",
   "execution_count": null,
   "id": "1f7e14e5",
   "metadata": {},
   "outputs": [],
   "source": [
    "def get_average(name: str, scores: list[float]) -> float:\n",
    "    average_score = sum(scores)/len(scores)\n",
    "    print(f\"{name}'s average score is {average_score}\")\n",
    "    return average_score"
   ]
  },
  {
   "cell_type": "code",
   "execution_count": null,
   "id": "e1883c37",
   "metadata": {},
   "outputs": [],
   "source": [
    "def greet(name: str) -> None:\n",
    "    print(f'Hello, {name}')"
   ]
  },
  {
   "cell_type": "code",
   "execution_count": 2,
   "id": "c7977c66",
   "metadata": {},
   "outputs": [],
   "source": [
    "def add (a: int, b: int) -> int:\n",
    "    return a + b"
   ]
  },
  {
   "cell_type": "code",
   "execution_count": 3,
   "id": "e80c25b5",
   "metadata": {},
   "outputs": [
    {
     "data": {
      "text/plain": [
       "4.1"
      ]
     },
     "execution_count": 3,
     "metadata": {},
     "output_type": "execute_result"
    }
   ],
   "source": [
    "add(1.3, 2.8)"
   ]
  },
  {
   "cell_type": "markdown",
   "id": "02488f1f",
   "metadata": {},
   "source": [
    "### Typing module"
   ]
  },
  {
   "cell_type": "markdown",
   "id": "85eacfd9",
   "metadata": {},
   "source": [
    "typing module helps to indicate data types/structures for complicated functions and codes. They are usually used to when a function receives or outputs multiple data types"
   ]
  },
  {
   "cell_type": "code",
   "execution_count": 4,
   "id": "f8ef7afb",
   "metadata": {},
   "outputs": [],
   "source": [
    "from typing import List, Dict, Union, Optional\n",
    "\n",
    "def process_scores(\n",
    "    scores: List[int],\n",
    "    info: Dict[str, Union[int, float]], #key contains strings, while the value contains either integers or float\n",
    "    comment: Optional[str] = None) -> None:\n",
    "    print(f'Scores: {scores}')\n",
    "    print(f'Info: {info}')\n",
    "    if comment:\n",
    "        print(f\"Comment: {comment}\")"
   ]
  },
  {
   "cell_type": "code",
   "execution_count": null,
   "id": "38b5736d",
   "metadata": {},
   "outputs": [],
   "source": [
    "#Union is used when a variable or argument can hold more than one possible type"
   ]
  },
  {
   "cell_type": "code",
   "execution_count": 5,
   "id": "ce23b90c",
   "metadata": {},
   "outputs": [],
   "source": [
    "def get_fellow_id(id: Union[int, str]) -> str:\n",
    "    return f'fellow ID: {id}'"
   ]
  },
  {
   "cell_type": "code",
   "execution_count": null,
   "id": "aea8ab43",
   "metadata": {},
   "outputs": [
    {
     "name": "stdout",
     "output_type": "stream",
     "text": [
      "fellow ID: 42\n",
      "fellow ID: 42\n",
      "fellow ID: True\n"
     ]
    }
   ],
   "source": [
    "print(get_fellow_id(42))\n",
    "print(get_fellow_id('42'))\n",
    "print(get_fellow_id(True))"
   ]
  }
 ],
 "metadata": {
  "kernelspec": {
   "display_name": "Python 3",
   "language": "python",
   "name": "python3"
  },
  "language_info": {
   "codemirror_mode": {
    "name": "ipython",
    "version": 3
   },
   "file_extension": ".py",
   "mimetype": "text/x-python",
   "name": "python",
   "nbconvert_exporter": "python",
   "pygments_lexer": "ipython3",
   "version": "3.13.6"
  }
 },
 "nbformat": 4,
 "nbformat_minor": 5
}
