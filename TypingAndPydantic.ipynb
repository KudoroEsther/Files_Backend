{
 "cells": [
  {
   "cell_type": "markdown",
   "id": "f3758eba",
   "metadata": {},
   "source": [
    "# Python typing"
   ]
  },
  {
   "cell_type": "code",
   "execution_count": null,
   "id": "cb0a7978",
   "metadata": {},
   "outputs": [],
   "source": [
    "def get_fellows_names(fellow: list[str]) -> list[str]:\n",
    "    return fellow\n",
    "\n",
    "#fellow: list[str] indicates the type of input the function should accept i.e a list of strings\n",
    "# -> list[str] indicates the type of output expected"
   ]
  },
  {
   "cell_type": "code",
   "execution_count": null,
   "id": "1f7e14e5",
   "metadata": {},
   "outputs": [],
   "source": [
    "def get_average(name: str, scores: list[float]) -> float:\n",
    "    average_score = sum(scores)/len(scores)\n",
    "    print(f\"{name}'s average score is {average_score}\")\n",
    "    return average_score"
   ]
  },
  {
   "cell_type": "code",
   "execution_count": null,
   "id": "e1883c37",
   "metadata": {},
   "outputs": [],
   "source": [
    "def greet(name: str) -> None:\n",
    "    print(f'Hello, {name}')"
   ]
  },
  {
   "cell_type": "code",
   "execution_count": 2,
   "id": "c7977c66",
   "metadata": {},
   "outputs": [],
   "source": [
    "def add (a: int, b: int) -> int:\n",
    "    return a + b"
   ]
  },
  {
   "cell_type": "code",
   "execution_count": 3,
   "id": "e80c25b5",
   "metadata": {},
   "outputs": [
    {
     "data": {
      "text/plain": [
       "4.1"
      ]
     },
     "execution_count": 3,
     "metadata": {},
     "output_type": "execute_result"
    }
   ],
   "source": [
    "add(1.3, 2.8)"
   ]
  },
  {
   "cell_type": "markdown",
   "id": "02488f1f",
   "metadata": {},
   "source": [
    "### Typing module"
   ]
  },
  {
   "cell_type": "markdown",
   "id": "85eacfd9",
   "metadata": {},
   "source": [
    "typing module helps to indicate data types/structures for complicated functions and codes. They are usually used to when a function receives or outputs multiple data types"
   ]
  },
  {
   "cell_type": "code",
   "execution_count": 26,
   "id": "f8ef7afb",
   "metadata": {},
   "outputs": [],
   "source": [
    "from typing import List, Dict, Union, Optional, Tuple\n",
    "\n",
    "def process_scores(\n",
    "    scores: List[int],\n",
    "    info: Dict[str, Union[int, float]], #key contains strings, while the value contains either integers or float\n",
    "    comment: Optional[str] = None) -> None:\n",
    "    print(f'Scores: {scores}')\n",
    "    print(f'Info: {info}')\n",
    "    if comment:\n",
    "        print(f\"Comment: {comment}\")"
   ]
  },
  {
   "cell_type": "markdown",
   "id": "8fb3bf66",
   "metadata": {},
   "source": [
    "#### Union"
   ]
  },
  {
   "cell_type": "code",
   "execution_count": null,
   "id": "38b5736d",
   "metadata": {},
   "outputs": [],
   "source": [
    "#Union is used when a variable or argument can hold more than one possible type"
   ]
  },
  {
   "cell_type": "code",
   "execution_count": null,
   "id": "ce23b90c",
   "metadata": {},
   "outputs": [],
   "source": [
    "def get_fellow_id(id: Union[int, str]) -> str: #You can chain more than two types with Union\n",
    "    return f'fellow ID: {id}'"
   ]
  },
  {
   "cell_type": "code",
   "execution_count": null,
   "id": "aea8ab43",
   "metadata": {},
   "outputs": [
    {
     "name": "stdout",
     "output_type": "stream",
     "text": [
      "fellow ID: 42\n",
      "fellow ID: 42\n",
      "fellow ID: True\n"
     ]
    }
   ],
   "source": [
    "print(get_fellow_id(42))\n",
    "print(get_fellow_id('42'))\n",
    "print(get_fellow_id(True))"
   ]
  },
  {
   "cell_type": "code",
   "execution_count": null,
   "id": "0aeacf80",
   "metadata": {},
   "outputs": [],
   "source": [
    "# Pipe | can be used instead of Union\n",
    "def get_fellow_id(id: int|str)-> str:\n",
    "    return f\"Fellow ID: {id}\"\n",
    "#same as\n",
    "def get_fellow_id(id: Union[int, str]) -> str:\n",
    "    return f'Fellow ID: {id}'"
   ]
  },
  {
   "cell_type": "code",
   "execution_count": 8,
   "id": "7807d105",
   "metadata": {},
   "outputs": [],
   "source": [
    "def format_address(house_number: Union[int, str], street: str)-> str:\n",
    "    return f\"{house_number} {street}\""
   ]
  },
  {
   "cell_type": "code",
   "execution_count": 9,
   "id": "aeb06ad5",
   "metadata": {},
   "outputs": [
    {
     "name": "stdout",
     "output_type": "stream",
     "text": [
      "23 Ajelogo Street\n",
      "23A Ajelogo Street\n"
     ]
    }
   ],
   "source": [
    "print(format_address(23, 'Ajelogo Street'))\n",
    "print(format_address('23A', 'Ajelogo Street'))"
   ]
  },
  {
   "cell_type": "markdown",
   "id": "e7d0dc16",
   "metadata": {},
   "source": [
    "#### Optional"
   ]
  },
  {
   "cell_type": "code",
   "execution_count": null,
   "id": "da5989e0",
   "metadata": {},
   "outputs": [],
   "source": [
    "#Optional accepts a particular data type or nothing"
   ]
  },
  {
   "cell_type": "code",
   "execution_count": 10,
   "id": "0874fd72",
   "metadata": {},
   "outputs": [],
   "source": [
    "def greet(first_name: str, last_name: Optional[str] = None) -> None:\n",
    "    if last_name:\n",
    "        print(f'Hello {first_name} {last_name}')\n",
    "    else:\n",
    "        print(f'Hello {first_name}')"
   ]
  },
  {
   "cell_type": "code",
   "execution_count": 11,
   "id": "55bf1a71",
   "metadata": {},
   "outputs": [
    {
     "name": "stdout",
     "output_type": "stream",
     "text": [
      "Hello Toyeebat Arike\n",
      "Hello Toyeebat\n"
     ]
    }
   ],
   "source": [
    "greet('Toyeebat', 'Arike')\n",
    "greet('Toyeebat')"
   ]
  },
  {
   "cell_type": "code",
   "execution_count": 12,
   "id": "dfd9e262",
   "metadata": {},
   "outputs": [],
   "source": [
    "def find_user(username: str) -> Optional[dict]: #the function returns a dictionary if the user exists and None if it doesn't\n",
    "    if username == 'admin':\n",
    "        return {'username': 'admin', 'role': 'superuser'}\n",
    "    return None"
   ]
  },
  {
   "cell_type": "code",
   "execution_count": 15,
   "id": "4e0bb28d",
   "metadata": {},
   "outputs": [
    {
     "data": {
      "text/plain": [
       "{'username': 'admin', 'role': 'superuser'}"
      ]
     },
     "execution_count": 15,
     "metadata": {},
     "output_type": "execute_result"
    }
   ],
   "source": [
    "find_user('admin')\n"
   ]
  },
  {
   "cell_type": "code",
   "execution_count": 16,
   "id": "7156d05b",
   "metadata": {},
   "outputs": [],
   "source": [
    "find_user('student')"
   ]
  },
  {
   "cell_type": "markdown",
   "id": "7be99c55",
   "metadata": {},
   "source": [
    "#### Typed collections"
   ]
  },
  {
   "cell_type": "code",
   "execution_count": 19,
   "id": "4a1f0369",
   "metadata": {},
   "outputs": [
    {
     "data": {
      "text/plain": [
       "{'David': 89, 'Michael': 98}"
      ]
     },
     "execution_count": 19,
     "metadata": {},
     "output_type": "execute_result"
    }
   ],
   "source": [
    "#Typed dictionary\n",
    "\n",
    "fellow_scores: Dict[str, int]= {\n",
    "    'David': 89,\n",
    "    'Michael': 98\n",
    "} #this means that every key is a string and every value is an integer\n",
    "fellow_scores"
   ]
  },
  {
   "cell_type": "code",
   "execution_count": 20,
   "id": "ddcd349a",
   "metadata": {},
   "outputs": [
    {
     "data": {
      "text/plain": [
       "('Perpetual', 88, 'AI Engr')"
      ]
     },
     "execution_count": 20,
     "metadata": {},
     "output_type": "execute_result"
    }
   ],
   "source": [
    "# Typed tuples\n",
    "fellow: Tuple[str, int, str] = ('Perpetual', 88, 'AI Engr') #this means position 0 & 2 takes strings while position 1 takes integers\n",
    "fellow"
   ]
  },
  {
   "cell_type": "code",
   "execution_count": 21,
   "id": "ab6c6f4d",
   "metadata": {},
   "outputs": [],
   "source": [
    "def ai_fellow(fellow: Tuple[str, int]) -> str:\n",
    "    name, score = fellow\n",
    "    return f'{name} scored {score} in the last exam'"
   ]
  },
  {
   "cell_type": "markdown",
   "id": "8039babe",
   "metadata": {},
   "source": [
    "### Using Pydantic"
   ]
  },
  {
   "cell_type": "code",
   "execution_count": 1,
   "id": "e994aa9d",
   "metadata": {},
   "outputs": [],
   "source": [
    "from pydantic import BaseModel"
   ]
  },
  {
   "cell_type": "code",
   "execution_count": 2,
   "id": "f0c45ca0",
   "metadata": {},
   "outputs": [],
   "source": [
    "#Creating a pydantic data model\n",
    "\n",
    "class Fellow(BaseModel):\n",
    "    name: str\n",
    "    score: int\n",
    "    track: str"
   ]
  },
  {
   "cell_type": "markdown",
   "id": "293f72b8",
   "metadata": {},
   "source": [
    "#### BaseModel capabilities"
   ]
  },
  {
   "cell_type": "code",
   "execution_count": 3,
   "id": "aad5a5ff",
   "metadata": {},
   "outputs": [
    {
     "data": {
      "text/plain": [
       "Fellow(name='Perpetual', score=88, track='AI Engineering')"
      ]
     },
     "execution_count": 3,
     "metadata": {},
     "output_type": "execute_result"
    }
   ],
   "source": [
    "#Validation: It automatically validates data passed to it\n",
    "Fellow(name = 'Perpetual', score= 88, track = 'AI Engineering')"
   ]
  },
  {
   "cell_type": "code",
   "execution_count": 5,
   "id": "3dc45cec",
   "metadata": {},
   "outputs": [
    {
     "ename": "ValidationError",
     "evalue": "1 validation error for Fellow\nscore\n  Input should be a valid integer, unable to parse string as an integer [type=int_parsing, input_value='eighty', input_type=str]\n    For further information visit https://errors.pydantic.dev/2.12/v/int_parsing",
     "output_type": "error",
     "traceback": [
      "\u001b[31m---------------------------------------------------------------------------\u001b[39m",
      "\u001b[31mValidationError\u001b[39m                           Traceback (most recent call last)",
      "\u001b[36mCell\u001b[39m\u001b[36m \u001b[39m\u001b[32mIn[5]\u001b[39m\u001b[32m, line 1\u001b[39m\n\u001b[32m----> \u001b[39m\u001b[32m1\u001b[39m \u001b[43mFellow\u001b[49m\u001b[43m(\u001b[49m\u001b[43mname\u001b[49m\u001b[43m \u001b[49m\u001b[43m=\u001b[49m\u001b[43m \u001b[49m\u001b[33;43m'\u001b[39;49m\u001b[33;43mAcha\u001b[39;49m\u001b[33;43m'\u001b[39;49m\u001b[43m,\u001b[49m\u001b[43m \u001b[49m\u001b[43mscore\u001b[49m\u001b[43m \u001b[49m\u001b[43m=\u001b[49m\u001b[43m \u001b[49m\u001b[33;43m'\u001b[39;49m\u001b[33;43meighty\u001b[39;49m\u001b[33;43m'\u001b[39;49m\u001b[43m,\u001b[49m\u001b[43m \u001b[49m\u001b[43mtrack\u001b[49m\u001b[43m \u001b[49m\u001b[43m=\u001b[49m\u001b[43m \u001b[49m\u001b[33;43m'\u001b[39;49m\u001b[33;43mEngineering\u001b[39;49m\u001b[33;43m'\u001b[39;49m\u001b[43m)\u001b[49m\n",
      "\u001b[36mFile \u001b[39m\u001b[32mc:\\Users\\ncc333\\Desktop\\BackEnd\\a_Backend\\Lib\\site-packages\\pydantic\\main.py:250\u001b[39m, in \u001b[36mBaseModel.__init__\u001b[39m\u001b[34m(self, **data)\u001b[39m\n\u001b[32m    248\u001b[39m \u001b[38;5;66;03m# `__tracebackhide__` tells pytest and some other tools to omit this function from tracebacks\u001b[39;00m\n\u001b[32m    249\u001b[39m __tracebackhide__ = \u001b[38;5;28;01mTrue\u001b[39;00m\n\u001b[32m--> \u001b[39m\u001b[32m250\u001b[39m validated_self = \u001b[38;5;28;43mself\u001b[39;49m\u001b[43m.\u001b[49m\u001b[43m__pydantic_validator__\u001b[49m\u001b[43m.\u001b[49m\u001b[43mvalidate_python\u001b[49m\u001b[43m(\u001b[49m\u001b[43mdata\u001b[49m\u001b[43m,\u001b[49m\u001b[43m \u001b[49m\u001b[43mself_instance\u001b[49m\u001b[43m=\u001b[49m\u001b[38;5;28;43mself\u001b[39;49m\u001b[43m)\u001b[49m\n\u001b[32m    251\u001b[39m \u001b[38;5;28;01mif\u001b[39;00m \u001b[38;5;28mself\u001b[39m \u001b[38;5;129;01mis\u001b[39;00m \u001b[38;5;129;01mnot\u001b[39;00m validated_self:\n\u001b[32m    252\u001b[39m     warnings.warn(\n\u001b[32m    253\u001b[39m         \u001b[33m'\u001b[39m\u001b[33mA custom validator is returning a value other than `self`.\u001b[39m\u001b[38;5;130;01m\\n\u001b[39;00m\u001b[33m'\u001b[39m\n\u001b[32m    254\u001b[39m         \u001b[33m\"\u001b[39m\u001b[33mReturning anything other than `self` from a top level model validator isn\u001b[39m\u001b[33m'\u001b[39m\u001b[33mt supported when validating via `__init__`.\u001b[39m\u001b[38;5;130;01m\\n\u001b[39;00m\u001b[33m\"\u001b[39m\n\u001b[32m    255\u001b[39m         \u001b[33m'\u001b[39m\u001b[33mSee the `model_validator` docs (https://docs.pydantic.dev/latest/concepts/validators/#model-validators) for more details.\u001b[39m\u001b[33m'\u001b[39m,\n\u001b[32m    256\u001b[39m         stacklevel=\u001b[32m2\u001b[39m,\n\u001b[32m    257\u001b[39m     )\n",
      "\u001b[31mValidationError\u001b[39m: 1 validation error for Fellow\nscore\n  Input should be a valid integer, unable to parse string as an integer [type=int_parsing, input_value='eighty', input_type=str]\n    For further information visit https://errors.pydantic.dev/2.12/v/int_parsing"
     ]
    }
   ],
   "source": [
    "Fellow(name = 'Acha', score = 'eighty', track = 'Engineering')"
   ]
  },
  {
   "cell_type": "code",
   "execution_count": 14,
   "id": "ba683341",
   "metadata": {},
   "outputs": [
    {
     "name": "stdout",
     "output_type": "stream",
     "text": [
      "<class 'int'>\n"
     ]
    }
   ],
   "source": [
    "# Parsing and type conversion: It automatically converts compatible types\n",
    "p = Fellow(name = \"Perpetual\", score= '88', track = 'AI Engineering')\n",
    "print(type(p.score))\n"
   ]
  },
  {
   "cell_type": "code",
   "execution_count": null,
   "id": "460efdd7",
   "metadata": {},
   "outputs": [
    {
     "name": "stdout",
     "output_type": "stream",
     "text": [
      "name='Blessing' score=100 track='AI Engineering'\n",
      "<class 'int'>\n"
     ]
    }
   ],
   "source": [
    "#Incoming data\n",
    "data = {'name': 'Blessing', 'score': '100', 'track': 'AI Engineering'}\n",
    "\n",
    "#pydantic will parse it like this\n",
    "fellow = Fellow(**data) #what's the point of **\n",
    "\n",
    "print(fellow)\n",
    "print(type(fellow.score))\n",
    "\n",
    "#pydantic parsed '100' into an integer 100"
   ]
  },
  {
   "cell_type": "code",
   "execution_count": 12,
   "id": "5d2f107b",
   "metadata": {},
   "outputs": [
    {
     "name": "stdout",
     "output_type": "stream",
     "text": [
      "{\"name\":\"Perpetual\",\"score\":88,\"track\":\"AI Engineering\"}\n"
     ]
    }
   ],
   "source": [
    "# 3. Serialization: It automatically converts data to JSON or dictionary (converts to a format that can be stored or sent)\n",
    "print(p.model_dump_json())"
   ]
  },
  {
   "cell_type": "code",
   "execution_count": 16,
   "id": "218447fa",
   "metadata": {},
   "outputs": [
    {
     "name": "stdout",
     "output_type": "stream",
     "text": [
      "{'name': 'Perpetual', 'score': 88, 'track': 'AI Engineering'}\n"
     ]
    }
   ],
   "source": [
    "print(p.model_dump())"
   ]
  },
  {
   "cell_type": "code",
   "execution_count": 17,
   "id": "f01eab0b",
   "metadata": {},
   "outputs": [],
   "source": [
    "# 4. Nesting: Models can be nested to create complex data structures\n",
    "\n",
    "class Address(BaseModel):\n",
    "    street: str\n",
    "    city: str\n",
    "    state: str\n",
    "    country: str\n",
    "\n",
    "class Fellow(BaseModel):\n",
    "    name: str\n",
    "    score: int\n",
    "    track: str\n",
    "    address: Address"
   ]
  },
  {
   "cell_type": "code",
   "execution_count": 18,
   "id": "5534773d",
   "metadata": {},
   "outputs": [
    {
     "name": "stdout",
     "output_type": "stream",
     "text": [
      "name='Perpetual' score=88 track='AI Engineering' address=Address(street='Ajelogo Street', city='Ketu', state='Lagos', country='Nigeria')\n"
     ]
    }
   ],
   "source": [
    "data = {\n",
    "    'name': 'Perpetual',\n",
    "    'score': 88,\n",
    "    'track': 'AI Engineering',\n",
    "\n",
    "    'address': {\n",
    "        'street': 'Ajelogo Street',\n",
    "        'city': 'Ketu',\n",
    "        'state': 'Lagos',\n",
    "        'country': 'Nigeria'\n",
    "    }\n",
    "}\n",
    "\n",
    "# Parsing using pydantic\n",
    "fellow = Fellow(**data)\n",
    "print(fellow)"
   ]
  },
  {
   "cell_type": "code",
   "execution_count": 21,
   "id": "26733846",
   "metadata": {},
   "outputs": [
    {
     "name": "stdout",
     "output_type": "stream",
     "text": [
      "Ajelogo Street\n"
     ]
    }
   ],
   "source": [
    "print(fellow.address.street)"
   ]
  },
  {
   "cell_type": "code",
   "execution_count": 22,
   "id": "0248e0c8",
   "metadata": {},
   "outputs": [
    {
     "name": "stdout",
     "output_type": "stream",
     "text": [
      "{'name': 'Perpetual', 'score': 88, 'track': 'AI Engineering', 'address': {'street': 'Ajelogo Street', 'city': 'Ketu', 'state': 'Lagos', 'country': 'Nigeria'}}\n"
     ]
    }
   ],
   "source": [
    "print(fellow.model_dump())"
   ]
  },
  {
   "cell_type": "code",
   "execution_count": 23,
   "id": "756a25d3",
   "metadata": {},
   "outputs": [
    {
     "name": "stdout",
     "output_type": "stream",
     "text": [
      "{\"name\":\"Perpetual\",\"score\":88,\"track\":\"AI Engineering\",\"address\":{\"street\":\"Ajelogo Street\",\"city\":\"Ketu\",\"state\":\"Lagos\",\"country\":\"Nigeria\"}}\n"
     ]
    }
   ],
   "source": [
    "print(fellow.model_dump_json())"
   ]
  },
  {
   "cell_type": "markdown",
   "id": "900d9a1c",
   "metadata": {},
   "source": [
    "#### A List of Nested Models"
   ]
  },
  {
   "cell_type": "code",
   "execution_count": 27,
   "id": "7341509b",
   "metadata": {},
   "outputs": [],
   "source": [
    "class Fellow(BaseModel):\n",
    "    name: str\n",
    "    score: int\n",
    "    track: str\n",
    "    addresses: List[Address]"
   ]
  },
  {
   "cell_type": "code",
   "execution_count": 29,
   "id": "a5cbf0d1",
   "metadata": {},
   "outputs": [
    {
     "name": "stdout",
     "output_type": "stream",
     "text": [
      "name='Perpetual' score=88 track='AI Engineering' addresses=[Address(street='Idoroko Road', city='Sango', state='Lagos', country='Nigeria'), Address(street='Kobape', city='Abeokuta', state='Ogun', country='Nigeria')]\n"
     ]
    }
   ],
   "source": [
    "data = {\n",
    "    \"name\": \"Perpetual\",\n",
    "    \"score\": 88,\n",
    "    \"track\": \"AI Engineering\",\n",
    "    \"addresses\": [\n",
    "        {\"street\": \"Idoroko Road\", \"city\": \"Sango\", \"state\":\"Lagos\",\n",
    "        \"country\": \"Nigeria\"},\n",
    "        {\"street\": \"Kobape\", \"city\": \"Abeokuta\", \"state\": \"Ogun\",\n",
    "        \"country\": \"Nigeria\"}\n",
    "    ]\n",
    "}\n",
    "\n",
    "fellow = Fellow(**data)\n",
    "print(fellow)"
   ]
  },
  {
   "cell_type": "code",
   "execution_count": 30,
   "id": "f8216441",
   "metadata": {},
   "outputs": [
    {
     "name": "stdout",
     "output_type": "stream",
     "text": [
      "Sango\n",
      "Abeokuta\n"
     ]
    }
   ],
   "source": [
    "print(fellow.addresses[0].city)\n",
    "print(fellow.addresses[1].city)"
   ]
  },
  {
   "cell_type": "code",
   "execution_count": 32,
   "id": "da7e7dee",
   "metadata": {},
   "outputs": [
    {
     "name": "stdout",
     "output_type": "stream",
     "text": [
      "{\"name\":\"Perpetual\",\"score\":88,\"track\":\"AI Engineering\",\"addresses\":[{\"street\":\"Idoroko Road\",\"city\":\"Sango\",\"state\":\"Lagos\",\"country\":\"Nigeria\"},{\"street\":\"Kobape\",\"city\":\"Abeokuta\",\"state\":\"Ogun\",\"country\":\"Nigeria\"}]}\n",
      "\n",
      "\n",
      "{'name': 'Perpetual', 'score': 88, 'track': 'AI Engineering', 'addresses': [{'street': 'Idoroko Road', 'city': 'Sango', 'state': 'Lagos', 'country': 'Nigeria'}, {'street': 'Kobape', 'city': 'Abeokuta', 'state': 'Ogun', 'country': 'Nigeria'}]}\n"
     ]
    }
   ],
   "source": [
    "#Serializing\n",
    "print(fellow.model_dump_json())\n",
    "print('\\n')\n",
    "print(fellow.model_dump())"
   ]
  },
  {
   "cell_type": "markdown",
   "id": "07d88f71",
   "metadata": {},
   "source": [
    "#### Understanding Validation"
   ]
  },
  {
   "cell_type": "code",
   "execution_count": 33,
   "id": "6be47960",
   "metadata": {},
   "outputs": [
    {
     "name": "stdout",
     "output_type": "stream",
     "text": [
      "name='Michael' score=-79 addresses=[Address(street='123 Marose St', city='Ikorodu'), Address(street='4 Babatunde Ave', city='Abiola Way')]\n"
     ]
    }
   ],
   "source": [
    "class Address(BaseModel):\n",
    "    street: str\n",
    "    city: str\n",
    "\n",
    "class Fellow(BaseModel):\n",
    "    name: str\n",
    "    score: int\n",
    "    addresses: List[Address]\n",
    "\n",
    "data = {\n",
    "    'name': 'Michael',\n",
    "    'score': -79,\n",
    "    'addresses': [\n",
    "        {'street': '123 Marose St', 'city': 'Ikorodu'},\n",
    "        {'street': '4 Babatunde Ave', 'city': 'Abiola Way'}]\n",
    "}\n",
    "\n",
    "fellow = Fellow(**data)\n",
    "print(fellow)"
   ]
  },
  {
   "cell_type": "code",
   "execution_count": null,
   "id": "a3ff0f83",
   "metadata": {},
   "outputs": [],
   "source": [
    "#Using field validation to add constraints directly to fields"
   ]
  },
  {
   "cell_type": "code",
   "execution_count": null,
   "id": "39aa9f1d",
   "metadata": {},
   "outputs": [],
   "source": [
    "from pydantic import Field\n",
    "class Address(BaseModel):\n",
    "    street: str\n",
    "    city: str\n",
    "\n",
    "class Fellow(BaseModel):\n",
    "    name: str\n",
    "    score: int = Field(..., ge=0, le=100) #ge = 0 means greater than or equal to 0, le=100 means less than or equal to 100, ... means the field is required \n",
    "    addresses: List[Address]\n"
   ]
  },
  {
   "cell_type": "code",
   "execution_count": 35,
   "id": "7250c327",
   "metadata": {},
   "outputs": [
    {
     "ename": "ValidationError",
     "evalue": "1 validation error for Fellow\nscore\n  Input should be greater than or equal to 0 [type=greater_than_equal, input_value=-40, input_type=int]\n    For further information visit https://errors.pydantic.dev/2.12/v/greater_than_equal",
     "output_type": "error",
     "traceback": [
      "\u001b[31m---------------------------------------------------------------------------\u001b[39m",
      "\u001b[31mValidationError\u001b[39m                           Traceback (most recent call last)",
      "\u001b[36mCell\u001b[39m\u001b[36m \u001b[39m\u001b[32mIn[35]\u001b[39m\u001b[32m, line 1\u001b[39m\n\u001b[32m----> \u001b[39m\u001b[32m1\u001b[39m \u001b[43mFellow\u001b[49m\u001b[43m(\u001b[49m\u001b[43mname\u001b[49m\u001b[43m \u001b[49m\u001b[43m=\u001b[49m\u001b[43m \u001b[49m\u001b[33;43m\"\u001b[39;49m\u001b[33;43mHasssan\u001b[39;49m\u001b[33;43m\"\u001b[39;49m\u001b[43m,\u001b[49m\u001b[43m \u001b[49m\u001b[43mscore\u001b[49m\u001b[43m \u001b[49m\u001b[43m=\u001b[49m\u001b[43m \u001b[49m\u001b[43m-\u001b[49m\u001b[32;43m40\u001b[39;49m\u001b[43m,\u001b[49m\u001b[43m \u001b[49m\u001b[43maddresses\u001b[49m\u001b[43m=\u001b[49m\u001b[43m[\u001b[49m\u001b[43m]\u001b[49m\u001b[43m)\u001b[49m\n",
      "\u001b[36mFile \u001b[39m\u001b[32mc:\\Users\\ncc333\\Desktop\\BackEnd\\a_Backend\\Lib\\site-packages\\pydantic\\main.py:250\u001b[39m, in \u001b[36mBaseModel.__init__\u001b[39m\u001b[34m(self, **data)\u001b[39m\n\u001b[32m    248\u001b[39m \u001b[38;5;66;03m# `__tracebackhide__` tells pytest and some other tools to omit this function from tracebacks\u001b[39;00m\n\u001b[32m    249\u001b[39m __tracebackhide__ = \u001b[38;5;28;01mTrue\u001b[39;00m\n\u001b[32m--> \u001b[39m\u001b[32m250\u001b[39m validated_self = \u001b[38;5;28;43mself\u001b[39;49m\u001b[43m.\u001b[49m\u001b[43m__pydantic_validator__\u001b[49m\u001b[43m.\u001b[49m\u001b[43mvalidate_python\u001b[49m\u001b[43m(\u001b[49m\u001b[43mdata\u001b[49m\u001b[43m,\u001b[49m\u001b[43m \u001b[49m\u001b[43mself_instance\u001b[49m\u001b[43m=\u001b[49m\u001b[38;5;28;43mself\u001b[39;49m\u001b[43m)\u001b[49m\n\u001b[32m    251\u001b[39m \u001b[38;5;28;01mif\u001b[39;00m \u001b[38;5;28mself\u001b[39m \u001b[38;5;129;01mis\u001b[39;00m \u001b[38;5;129;01mnot\u001b[39;00m validated_self:\n\u001b[32m    252\u001b[39m     warnings.warn(\n\u001b[32m    253\u001b[39m         \u001b[33m'\u001b[39m\u001b[33mA custom validator is returning a value other than `self`.\u001b[39m\u001b[38;5;130;01m\\n\u001b[39;00m\u001b[33m'\u001b[39m\n\u001b[32m    254\u001b[39m         \u001b[33m\"\u001b[39m\u001b[33mReturning anything other than `self` from a top level model validator isn\u001b[39m\u001b[33m'\u001b[39m\u001b[33mt supported when validating via `__init__`.\u001b[39m\u001b[38;5;130;01m\\n\u001b[39;00m\u001b[33m\"\u001b[39m\n\u001b[32m    255\u001b[39m         \u001b[33m'\u001b[39m\u001b[33mSee the `model_validator` docs (https://docs.pydantic.dev/latest/concepts/validators/#model-validators) for more details.\u001b[39m\u001b[33m'\u001b[39m,\n\u001b[32m    256\u001b[39m         stacklevel=\u001b[32m2\u001b[39m,\n\u001b[32m    257\u001b[39m     )\n",
      "\u001b[31mValidationError\u001b[39m: 1 validation error for Fellow\nscore\n  Input should be greater than or equal to 0 [type=greater_than_equal, input_value=-40, input_type=int]\n    For further information visit https://errors.pydantic.dev/2.12/v/greater_than_equal"
     ]
    }
   ],
   "source": [
    "Fellow(name = \"Hasssan\", score = -40, addresses=[])"
   ]
  },
  {
   "cell_type": "code",
   "execution_count": 36,
   "id": "d927c5e0",
   "metadata": {},
   "outputs": [
    {
     "data": {
      "text/plain": [
       "Fellow(name='Hassan', score=80, addresses=[])"
      ]
     },
     "execution_count": 36,
     "metadata": {},
     "output_type": "execute_result"
    }
   ],
   "source": [
    "Fellow(name='Hassan', score=80, addresses=[])"
   ]
  },
  {
   "cell_type": "markdown",
   "id": "85ec25b1",
   "metadata": {},
   "source": [
    "#### Custom Validation"
   ]
  },
  {
   "cell_type": "code",
   "execution_count": 58,
   "id": "15b66e3f",
   "metadata": {},
   "outputs": [],
   "source": [
    "from pydantic import field_validator, EmailStr\n",
    "\n",
    "class Person(BaseModel):\n",
    "    name: str\n",
    "    age: int = Field(..., ge=0)\n",
    "    email: EmailStr\n",
    "\n",
    "    @field_validator('name')\n",
    "    def name_must_start_with_capital(cls, n):\n",
    "        if not n[0].isupper():\n",
    "            raise ValueError('Name must start with capital letter')\n",
    "        return n"
   ]
  },
  {
   "cell_type": "code",
   "execution_count": 51,
   "id": "0456014d",
   "metadata": {},
   "outputs": [
    {
     "ename": "ValidationError",
     "evalue": "1 validation error for Person\nname\n  Value error, Name must start with capital letter [type=value_error, input_value='solomon', input_type=str]\n    For further information visit https://errors.pydantic.dev/2.12/v/value_error",
     "output_type": "error",
     "traceback": [
      "\u001b[31m---------------------------------------------------------------------------\u001b[39m",
      "\u001b[31mValidationError\u001b[39m                           Traceback (most recent call last)",
      "\u001b[36mCell\u001b[39m\u001b[36m \u001b[39m\u001b[32mIn[51]\u001b[39m\u001b[32m, line 1\u001b[39m\n\u001b[32m----> \u001b[39m\u001b[32m1\u001b[39m \u001b[43mPerson\u001b[49m\u001b[43m(\u001b[49m\u001b[43mname\u001b[49m\u001b[43m=\u001b[49m\u001b[33;43m'\u001b[39;49m\u001b[33;43msolomon\u001b[39;49m\u001b[33;43m'\u001b[39;49m\u001b[43m,\u001b[49m\u001b[43m \u001b[49m\u001b[43mage\u001b[49m\u001b[43m \u001b[49m\u001b[43m=\u001b[49m\u001b[43m \u001b[49m\u001b[32;43m20\u001b[39;49m\u001b[43m,\u001b[49m\u001b[43m \u001b[49m\u001b[43memail\u001b[49m\u001b[43m=\u001b[49m\u001b[43m \u001b[49m\u001b[33;43m'\u001b[39;49m\u001b[33;43mkudoro@gmail.com\u001b[39;49m\u001b[33;43m'\u001b[39;49m\u001b[43m)\u001b[49m\n",
      "\u001b[36mFile \u001b[39m\u001b[32mc:\\Users\\ncc333\\Desktop\\BackEnd\\a_Backend\\Lib\\site-packages\\pydantic\\main.py:250\u001b[39m, in \u001b[36mBaseModel.__init__\u001b[39m\u001b[34m(self, **data)\u001b[39m\n\u001b[32m    248\u001b[39m \u001b[38;5;66;03m# `__tracebackhide__` tells pytest and some other tools to omit this function from tracebacks\u001b[39;00m\n\u001b[32m    249\u001b[39m __tracebackhide__ = \u001b[38;5;28;01mTrue\u001b[39;00m\n\u001b[32m--> \u001b[39m\u001b[32m250\u001b[39m validated_self = \u001b[38;5;28;43mself\u001b[39;49m\u001b[43m.\u001b[49m\u001b[43m__pydantic_validator__\u001b[49m\u001b[43m.\u001b[49m\u001b[43mvalidate_python\u001b[49m\u001b[43m(\u001b[49m\u001b[43mdata\u001b[49m\u001b[43m,\u001b[49m\u001b[43m \u001b[49m\u001b[43mself_instance\u001b[49m\u001b[43m=\u001b[49m\u001b[38;5;28;43mself\u001b[39;49m\u001b[43m)\u001b[49m\n\u001b[32m    251\u001b[39m \u001b[38;5;28;01mif\u001b[39;00m \u001b[38;5;28mself\u001b[39m \u001b[38;5;129;01mis\u001b[39;00m \u001b[38;5;129;01mnot\u001b[39;00m validated_self:\n\u001b[32m    252\u001b[39m     warnings.warn(\n\u001b[32m    253\u001b[39m         \u001b[33m'\u001b[39m\u001b[33mA custom validator is returning a value other than `self`.\u001b[39m\u001b[38;5;130;01m\\n\u001b[39;00m\u001b[33m'\u001b[39m\n\u001b[32m    254\u001b[39m         \u001b[33m\"\u001b[39m\u001b[33mReturning anything other than `self` from a top level model validator isn\u001b[39m\u001b[33m'\u001b[39m\u001b[33mt supported when validating via `__init__`.\u001b[39m\u001b[38;5;130;01m\\n\u001b[39;00m\u001b[33m\"\u001b[39m\n\u001b[32m    255\u001b[39m         \u001b[33m'\u001b[39m\u001b[33mSee the `model_validator` docs (https://docs.pydantic.dev/latest/concepts/validators/#model-validators) for more details.\u001b[39m\u001b[33m'\u001b[39m,\n\u001b[32m    256\u001b[39m         stacklevel=\u001b[32m2\u001b[39m,\n\u001b[32m    257\u001b[39m     )\n",
      "\u001b[31mValidationError\u001b[39m: 1 validation error for Person\nname\n  Value error, Name must start with capital letter [type=value_error, input_value='solomon', input_type=str]\n    For further information visit https://errors.pydantic.dev/2.12/v/value_error"
     ]
    }
   ],
   "source": [
    "Person(name='solomon', age = 20, email= 'kudoro@gmail.com')"
   ]
  },
  {
   "cell_type": "code",
   "execution_count": 59,
   "id": "3d9431fd",
   "metadata": {},
   "outputs": [
    {
     "data": {
      "text/plain": [
       "Person(name='Solomon', age=20, email='kudoro@gmail.com')"
      ]
     },
     "execution_count": 59,
     "metadata": {},
     "output_type": "execute_result"
    }
   ],
   "source": [
    "Person(name='Solomon', age = 20, email= 'kudoro@gmail.com')"
   ]
  },
  {
   "cell_type": "markdown",
   "id": "fec92372",
   "metadata": {},
   "source": [
    "### Enum and Literals"
   ]
  },
  {
   "cell_type": "markdown",
   "id": "3d2e51e3",
   "metadata": {},
   "source": [
    "Enum is used when your allowed values are still fixed, but you might want want more control\n",
    "Literal is used when you want a small, fixed set of allowed string (or number) values, but you don't need any extra logic or behaviour."
   ]
  },
  {
   "cell_type": "code",
   "execution_count": 68,
   "id": "fc67b485",
   "metadata": {},
   "outputs": [
    {
     "name": "stdout",
     "output_type": "stream",
     "text": [
      "Gender.female\n"
     ]
    }
   ],
   "source": [
    "from typing import Literal\n",
    "from enum import Enum\n",
    "\n",
    "class Gender(str, Enum):\n",
    "    male = 'male'\n",
    "    female = 'female'\n",
    "\n",
    "gender = Gender('female')\n",
    "print(gender)"
   ]
  },
  {
   "cell_type": "code",
   "execution_count": 69,
   "id": "7710d381",
   "metadata": {},
   "outputs": [
    {
     "name": "stdout",
     "output_type": "stream",
     "text": [
      "Gender.female\n"
     ]
    }
   ],
   "source": [
    "class Person(BaseModel):\n",
    "    gender: Literal['male', 'female']\n",
    "\n",
    "print(gender.female)"
   ]
  },
  {
   "cell_type": "markdown",
   "id": "fac0336f",
   "metadata": {},
   "source": [
    "**Field validator**"
   ]
  },
  {
   "cell_type": "code",
   "execution_count": null,
   "id": "6023c7ee",
   "metadata": {},
   "outputs": [],
   "source": [
    "from pydantic import BaseModel, field_validator\n",
    "\n",
    "class Product(BaseModel):\n",
    "    name: str\n",
    "    price: float\n",
    "\n",
    "    @field_validator('price')\n",
    "    def check_price(cls, v):\n",
    "        if v <= 0:\n",
    "            raise ValueError('Price must be positive')\n",
    "        return v\n",
    "    \n",
    "# cls is automatically passed when you define a class method. It refers to the model class itself, not an instance\n",
    "# v is the value of the field being validated. Pydantic passes it automatically ehen calling the validator"
   ]
  },
  {
   "cell_type": "code",
   "execution_count": 74,
   "id": "0456a1d9",
   "metadata": {},
   "outputs": [],
   "source": [
    "class Numbers(BaseModel):\n",
    "    values: list[int] = Field(..., min_length=3, max_length=5)"
   ]
  },
  {
   "cell_type": "code",
   "execution_count": 77,
   "id": "da6710c7",
   "metadata": {},
   "outputs": [
    {
     "name": "stdout",
     "output_type": "stream",
     "text": [
      "values=[1, 2, 3]\n"
     ]
    }
   ],
   "source": [
    "print(Numbers(values=[1,2,3]))\n",
    "# print(Numbers(values=[1,3]))\n",
    "# print(Numbers(values=[1,2,3,4,5,6]))"
   ]
  },
  {
   "cell_type": "code",
   "execution_count": null,
   "id": "ced46db6",
   "metadata": {},
   "outputs": [],
   "source": [
    "from decimal import Decimal\n",
    "\n",
    "class Product(BaseModel):\n",
    "    name: str= Field(..., min_length=3, max_length=20)\n",
    "    quantity: int = Field(..., gt=0, lt=100)\n",
    "    prices: list[float] = Field(..., min_length=2, max_length=5)\n",
    "    cost: Decimal = Field(..., gt=0, max_digits=6, decimal_places=2)"
   ]
  },
  {
   "cell_type": "code",
   "execution_count": null,
   "id": "41b98158",
   "metadata": {},
   "outputs": [],
   "source": [
    "Product(\n",
    "    name='Laptop',\n",
    "    quantity = 10,\n",
    "    price = [1200.5, 1300.75],\n",
    "    cost= Decimal('1500.00')\n",
    ")"
   ]
  }
 ],
 "metadata": {
  "kernelspec": {
   "display_name": "a_Backend (3.13.7)",
   "language": "python",
   "name": "python3"
  },
  "language_info": {
   "codemirror_mode": {
    "name": "ipython",
    "version": 3
   },
   "file_extension": ".py",
   "mimetype": "text/x-python",
   "name": "python",
   "nbconvert_exporter": "python",
   "pygments_lexer": "ipython3",
   "version": "3.13.7"
  }
 },
 "nbformat": 4,
 "nbformat_minor": 5
}
