{
 "cells": [
  {
   "cell_type": "markdown",
   "id": "f3758eba",
   "metadata": {},
   "source": [
    "# Python typing"
   ]
  },
  {
   "cell_type": "code",
   "execution_count": null,
   "id": "cb0a7978",
   "metadata": {},
   "outputs": [],
   "source": [
    "def get_fellows_names(fellow: list[str]) -> list[str]:\n",
    "    return fellow\n",
    "\n",
    "#fellow: list[str] indicates the type of input the function should accept i.e a list of strings\n",
    "# -> list[str] indicates the type of output expected"
   ]
  },
  {
   "cell_type": "code",
   "execution_count": null,
   "id": "1f7e14e5",
   "metadata": {},
   "outputs": [],
   "source": [
    "def get_average(name: str, scores: list[float]) -> float:\n",
    "    average_score = sum(scores)/len(scores)\n",
    "    print(f\"{name}'s average score is {average_score}\")\n",
    "    return average_score"
   ]
  },
  {
   "cell_type": "code",
   "execution_count": null,
   "id": "e1883c37",
   "metadata": {},
   "outputs": [],
   "source": [
    "def greet(name: str) -> None:\n",
    "    print(f'Hello, {name}')"
   ]
  },
  {
   "cell_type": "code",
   "execution_count": 2,
   "id": "c7977c66",
   "metadata": {},
   "outputs": [],
   "source": [
    "def add (a: int, b: int) -> int:\n",
    "    return a + b"
   ]
  },
  {
   "cell_type": "code",
   "execution_count": 3,
   "id": "e80c25b5",
   "metadata": {},
   "outputs": [
    {
     "data": {
      "text/plain": [
       "4.1"
      ]
     },
     "execution_count": 3,
     "metadata": {},
     "output_type": "execute_result"
    }
   ],
   "source": [
    "add(1.3, 2.8)"
   ]
  },
  {
   "cell_type": "markdown",
   "id": "02488f1f",
   "metadata": {},
   "source": [
    "### Typing module"
   ]
  },
  {
   "cell_type": "markdown",
   "id": "85eacfd9",
   "metadata": {},
   "source": [
    "typing module helps to indicate data types/structures for complicated functions and codes. They are usually used to when a function receives or outputs multiple data types"
   ]
  },
  {
   "cell_type": "code",
   "execution_count": 17,
   "id": "f8ef7afb",
   "metadata": {},
   "outputs": [],
   "source": [
    "from typing import List, Dict, Union, Optional, Tuple\n",
    "\n",
    "def process_scores(\n",
    "    scores: List[int],\n",
    "    info: Dict[str, Union[int, float]], #key contains strings, while the value contains either integers or float\n",
    "    comment: Optional[str] = None) -> None:\n",
    "    print(f'Scores: {scores}')\n",
    "    print(f'Info: {info}')\n",
    "    if comment:\n",
    "        print(f\"Comment: {comment}\")"
   ]
  },
  {
   "cell_type": "markdown",
   "id": "8fb3bf66",
   "metadata": {},
   "source": [
    "#### Union"
   ]
  },
  {
   "cell_type": "code",
   "execution_count": null,
   "id": "38b5736d",
   "metadata": {},
   "outputs": [],
   "source": [
    "#Union is used when a variable or argument can hold more than one possible type"
   ]
  },
  {
   "cell_type": "code",
   "execution_count": null,
   "id": "ce23b90c",
   "metadata": {},
   "outputs": [],
   "source": [
    "def get_fellow_id(id: Union[int, str]) -> str: #You can chain more than two types with Union\n",
    "    return f'fellow ID: {id}'"
   ]
  },
  {
   "cell_type": "code",
   "execution_count": null,
   "id": "aea8ab43",
   "metadata": {},
   "outputs": [
    {
     "name": "stdout",
     "output_type": "stream",
     "text": [
      "fellow ID: 42\n",
      "fellow ID: 42\n",
      "fellow ID: True\n"
     ]
    }
   ],
   "source": [
    "print(get_fellow_id(42))\n",
    "print(get_fellow_id('42'))\n",
    "print(get_fellow_id(True))"
   ]
  },
  {
   "cell_type": "code",
   "execution_count": null,
   "id": "0aeacf80",
   "metadata": {},
   "outputs": [],
   "source": [
    "# Pipe | can be used instead of Union\n",
    "def get_fellow_id(id: int|str)-> str:\n",
    "    return f\"Fellow ID: {id}\"\n",
    "#same as\n",
    "def get_fellow_id(id: Union[int, str]) -> str:\n",
    "    return f'Fellow ID: {id}'"
   ]
  },
  {
   "cell_type": "code",
   "execution_count": 8,
   "id": "7807d105",
   "metadata": {},
   "outputs": [],
   "source": [
    "def format_address(house_number: Union[int, str], street: str)-> str:\n",
    "    return f\"{house_number} {street}\""
   ]
  },
  {
   "cell_type": "code",
   "execution_count": 9,
   "id": "aeb06ad5",
   "metadata": {},
   "outputs": [
    {
     "name": "stdout",
     "output_type": "stream",
     "text": [
      "23 Ajelogo Street\n",
      "23A Ajelogo Street\n"
     ]
    }
   ],
   "source": [
    "print(format_address(23, 'Ajelogo Street'))\n",
    "print(format_address('23A', 'Ajelogo Street'))"
   ]
  },
  {
   "cell_type": "markdown",
   "id": "e7d0dc16",
   "metadata": {},
   "source": [
    "#### Optional"
   ]
  },
  {
   "cell_type": "code",
   "execution_count": null,
   "id": "da5989e0",
   "metadata": {},
   "outputs": [],
   "source": [
    "#Optional accepts a particular data type or nothing"
   ]
  },
  {
   "cell_type": "code",
   "execution_count": 10,
   "id": "0874fd72",
   "metadata": {},
   "outputs": [],
   "source": [
    "def greet(first_name: str, last_name: Optional[str] = None) -> None:\n",
    "    if last_name:\n",
    "        print(f'Hello {first_name} {last_name}')\n",
    "    else:\n",
    "        print(f'Hello {first_name}')"
   ]
  },
  {
   "cell_type": "code",
   "execution_count": 11,
   "id": "55bf1a71",
   "metadata": {},
   "outputs": [
    {
     "name": "stdout",
     "output_type": "stream",
     "text": [
      "Hello Toyeebat Arike\n",
      "Hello Toyeebat\n"
     ]
    }
   ],
   "source": [
    "greet('Toyeebat', 'Arike')\n",
    "greet('Toyeebat')"
   ]
  },
  {
   "cell_type": "code",
   "execution_count": 12,
   "id": "dfd9e262",
   "metadata": {},
   "outputs": [],
   "source": [
    "def find_user(username: str) -> Optional[dict]: #the function returns a dictionary if the user exists and None if it doesn't\n",
    "    if username == 'admin':\n",
    "        return {'username': 'admin', 'role': 'superuser'}\n",
    "    return None"
   ]
  },
  {
   "cell_type": "code",
   "execution_count": 15,
   "id": "4e0bb28d",
   "metadata": {},
   "outputs": [
    {
     "data": {
      "text/plain": [
       "{'username': 'admin', 'role': 'superuser'}"
      ]
     },
     "execution_count": 15,
     "metadata": {},
     "output_type": "execute_result"
    }
   ],
   "source": [
    "find_user('admin')\n"
   ]
  },
  {
   "cell_type": "code",
   "execution_count": 16,
   "id": "7156d05b",
   "metadata": {},
   "outputs": [],
   "source": [
    "find_user('student')"
   ]
  },
  {
   "cell_type": "markdown",
   "id": "7be99c55",
   "metadata": {},
   "source": [
    "#### Typed collections"
   ]
  },
  {
   "cell_type": "code",
   "execution_count": 19,
   "id": "4a1f0369",
   "metadata": {},
   "outputs": [
    {
     "data": {
      "text/plain": [
       "{'David': 89, 'Michael': 98}"
      ]
     },
     "execution_count": 19,
     "metadata": {},
     "output_type": "execute_result"
    }
   ],
   "source": [
    "#Typed dictionary\n",
    "\n",
    "fellow_scores: Dict[str, int]= {\n",
    "    'David': 89,\n",
    "    'Michael': 98\n",
    "} #this means that every key is a string and every value is an integer\n",
    "fellow_scores"
   ]
  },
  {
   "cell_type": "code",
   "execution_count": 20,
   "id": "ddcd349a",
   "metadata": {},
   "outputs": [
    {
     "data": {
      "text/plain": [
       "('Perpetual', 88, 'AI Engr')"
      ]
     },
     "execution_count": 20,
     "metadata": {},
     "output_type": "execute_result"
    }
   ],
   "source": [
    "# Typed tuples\n",
    "fellow: Tuple[str, int, str] = ('Perpetual', 88, 'AI Engr') #this means position 0 & 2 takes strings while position 1 takes integers\n",
    "fellow"
   ]
  },
  {
   "cell_type": "code",
   "execution_count": 21,
   "id": "ab6c6f4d",
   "metadata": {},
   "outputs": [],
   "source": [
    "def ai_fellow(fellow: Tuple[str, int]) -> str:\n",
    "    name, score = fellow\n",
    "    return f'{name} scored {score} in the last exam'"
   ]
  }
 ],
 "metadata": {
  "kernelspec": {
   "display_name": "Python 3",
   "language": "python",
   "name": "python3"
  },
  "language_info": {
   "codemirror_mode": {
    "name": "ipython",
    "version": 3
   },
   "file_extension": ".py",
   "mimetype": "text/x-python",
   "name": "python",
   "nbconvert_exporter": "python",
   "pygments_lexer": "ipython3",
   "version": "3.13.6"
  }
 },
 "nbformat": 4,
 "nbformat_minor": 5
}
