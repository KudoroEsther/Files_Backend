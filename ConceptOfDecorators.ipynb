{
 "cells": [
  {
   "cell_type": "markdown",
   "id": "d521e76b",
   "metadata": {},
   "source": [
    "# Decorators "
   ]
  },
  {
   "cell_type": "code",
   "execution_count": null,
   "id": "9e72b183",
   "metadata": {},
   "outputs": [
    {
     "name": "stdout",
     "output_type": "stream",
     "text": [
      "Welcome to our shop\n"
     ]
    }
   ],
   "source": [
    "def greet_customers():\n",
    "    return 'Welcome to our shop'\n",
    "\n",
    "#assigning functions to variables\n",
    "my_greeting = greet_customers\n",
    "print(my_greeting())\n",
    "\n",
    "#passing functions as arguments\n",
    "def use_greeting(greeting_func):\n",
    "    return f'Shopkeeper says: {greeting_func()}'\n",
    "print(use_greeting(greet_customers))"
   ]
  },
  {
   "cell_type": "code",
   "execution_count": 4,
   "id": "e16c4336",
   "metadata": {},
   "outputs": [],
   "source": [
    "def add_nigerian_politeness(original_function):\n",
    "    \"\"\"This decorator adds Nigerian politeness to any greeting\"\"\"\n",
    "    def wrapper():\n",
    "        result = original_function()\n",
    "        return f'Good morning ooo! {result} How is family?'\n",
    "    return wrapper\n",
    "\n",
    "def basic_greeting():\n",
    "    return 'Hello,'"
   ]
  },
  {
   "cell_type": "code",
   "execution_count": 5,
   "id": "4608f334",
   "metadata": {},
   "outputs": [
    {
     "name": "stdout",
     "output_type": "stream",
     "text": [
      "Good morning ooo! Hello, How is family?\n"
     ]
    }
   ],
   "source": [
    "#Applying the decorator manually\n",
    "polite_greeting = add_nigerian_politeness(basic_greeting)\n",
    "print(polite_greeting())"
   ]
  },
  {
   "cell_type": "code",
   "execution_count": 6,
   "id": "30b81373",
   "metadata": {},
   "outputs": [
    {
     "name": "stdout",
     "output_type": "stream",
     "text": [
      "Good morning ooo! Welcome to my provision store How is family?\n"
     ]
    }
   ],
   "source": [
    "#Using the @ symbol (syntactic sugar)\n",
    "@add_nigerian_politeness\n",
    "def shop_greeting():\n",
    "    return 'Welcome to my provision store'\n",
    "\n",
    "print(shop_greeting())"
   ]
  },
  {
   "cell_type": "code",
   "execution_count": 7,
   "id": "d2278fd0",
   "metadata": {},
   "outputs": [],
   "source": [
    "def nigerian_time_greeting(time_of_day):\n",
    "    \"\"\"Decorator that adds appropriate Nigerian greeting based on time\"\"\"\n",
    "    def decorator(original_function):\n",
    "        def wrapper():\n",
    "            if time_of_day == 'morning':\n",
    "                greeting = \"Good morning ooo!\"\n",
    "            elif time_of_day == 'afternoon':\n",
    "                greeting = \"Good afternoon ooo!\"\n",
    "            elif time_of_day == 'evening':\n",
    "                greeting = \"Good evening ooo!\"\n",
    "            else:\n",
    "                greeting ='How far!'\n",
    "            result = original_function()\n",
    "            return f'{greeting} {result}'\n",
    "        return wrapper\n",
    "    return decorator"
   ]
  },
  {
   "cell_type": "code",
   "execution_count": 8,
   "id": "a3c7917d",
   "metadata": {},
   "outputs": [],
   "source": [
    "#Using the decorator with different times\n",
    "@nigerian_time_greeting('morning')\n",
    "def market_greeting():\n",
    "    return 'Welcome to our shop, How can we help you today?'"
   ]
  },
  {
   "cell_type": "code",
   "execution_count": 10,
   "id": "db03141a",
   "metadata": {},
   "outputs": [],
   "source": [
    "@nigerian_time_greeting('night')\n",
    "def restaurant_greeting():\n",
    "    return 'Welcome to our restaurant. What would you like to eat?'"
   ]
  },
  {
   "cell_type": "code",
   "execution_count": 11,
   "id": "d4f3457c",
   "metadata": {},
   "outputs": [
    {
     "name": "stdout",
     "output_type": "stream",
     "text": [
      "Good morning ooo! Welcome to our shop, How can we help you today?\n",
      "How far! Welcome to our restaurant. What would you like to eat?\n"
     ]
    }
   ],
   "source": [
    "print(market_greeting())\n",
    "print(restaurant_greeting())"
   ]
  },
  {
   "cell_type": "code",
   "execution_count": 12,
   "id": "8c529e52",
   "metadata": {},
   "outputs": [],
   "source": [
    "def naira_formatter(currency_symbol = \"₦\"):\n",
    "    \"\"\"Decorator to format prices in Nigerian Naira\"\"\"\n",
    "    def decorator(price_function):\n",
    "        def wrapper(*args, **kwargs):\n",
    "            price = price_function(*args, *kwargs)\n",
    "            return f'{currency_symbol}{price:,}'\n",
    "        return wrapper\n",
    "    return decorator"
   ]
  },
  {
   "cell_type": "code",
   "execution_count": 13,
   "id": "a4421e5b",
   "metadata": {},
   "outputs": [],
   "source": [
    "@naira_formatter()\n",
    "def rice_price():\n",
    "    return 2500"
   ]
  },
  {
   "cell_type": "code",
   "execution_count": 14,
   "id": "0ab88870",
   "metadata": {},
   "outputs": [],
   "source": [
    "@naira_formatter()\n",
    "def calculate_transport_fare(distance_km):\n",
    "    base_fare = 200\n",
    "    per_km = 50\n",
    "    return base_fare + (distance_km * per_km)"
   ]
  },
  {
   "cell_type": "code",
   "execution_count": 15,
   "id": "612bf3cc",
   "metadata": {},
   "outputs": [
    {
     "name": "stdout",
     "output_type": "stream",
     "text": [
      "₦2,500\n",
      "₦550\n"
     ]
    }
   ],
   "source": [
    "print(rice_price())\n",
    "print(calculate_transport_fare(7))"
   ]
  },
  {
   "cell_type": "code",
   "execution_count": 17,
   "id": "765937d3",
   "metadata": {},
   "outputs": [],
   "source": [
    "#Shop Transaction Logger\n",
    "\n",
    "from datetime import datetime\n",
    "def log_transaction(logfiles = 'shop_transactions.txt'):\n",
    "    \"\"\"Decorateor to log all shop transactions\"\"\"\n",
    "    def decorator(transaction_function):\n",
    "        def wrapper(*args, **kwargs):\n",
    "            #Before the transaction\n",
    "            start_time = datetime.now()\n",
    "            print(f'[{start_time.strftime('%Y-%m-%d %H:%M:%S')}] Starting transaction...')\n",
    "\n",
    "            #Executing the transaction\n",
    "            result = transaction_function(*args, **kwargs)\n",
    "\n",
    "            #After the transaction\n",
    "            end_time = datetime.now()\n",
    "            duration = end_time - start_time\n",
    "\n",
    "            #Logging the transaction\n",
    "            log_entry = f'[{end_time.strftime('%Y-%m-%d %H:%M:%S')}] Transaction completed: {result} (Duration): {duration.total_seconds():.2f}s \\n'\n",
    "            print(log_entry.strip())\n",
    "\n",
    "            return result\n",
    "        return wrapper\n",
    "    return decorator"
   ]
  },
  {
   "cell_type": "code",
   "execution_count": 18,
   "id": "30b7a2e9",
   "metadata": {},
   "outputs": [],
   "source": [
    "@log_transaction('adunni_shop.txt')\n",
    "def sell_item(item_name, quantity, price_per_item):\n",
    "    \"\"\"Sell items in Abiodun's provision store\"\"\"\n",
    "    total = quantity * price_per_item\n",
    "    return f'Sold {quantity} {item_name}(s) for ₦{total:,}'"
   ]
  },
  {
   "cell_type": "code",
   "execution_count": 19,
   "id": "3bfa8042",
   "metadata": {},
   "outputs": [],
   "source": [
    "@log_transaction('Taofeek_tranport.txt')\n",
    "def collect_transport_fare(passenger_name, destination, fare):\n",
    "    \"\"\"Collect fare in Taofeek's bus\"\"\"\n",
    "    return f'Collected ₦{fare:,} from {passenger_name} going to {destination}'"
   ]
  },
  {
   "cell_type": "code",
   "execution_count": 20,
   "id": "5cb44ebd",
   "metadata": {},
   "outputs": [
    {
     "name": "stdout",
     "output_type": "stream",
     "text": [
      "[2025-10-24 15:34:04] Starting transaction...\n",
      "[2025-10-24 15:34:04] Transaction completed: Sold 5 Ladies wear(s) for ₦1,000 (Duration): 0.00s\n",
      "Sold 5 Ladies wear(s) for ₦1,000\n",
      "[2025-10-24 15:34:04] Starting transaction...\n",
      "[2025-10-24 15:34:04] Transaction completed: Collected ₦500 from Esther Kudoro going to Abeokuta (Duration): 0.00s\n",
      "Collected ₦500 from Esther Kudoro going to Abeokuta\n"
     ]
    }
   ],
   "source": [
    "#Using the decorated functions\n",
    "print(sell_item('Ladies wear', 5, 200))\n",
    "print(collect_transport_fare('Esther Kudoro', 'Abeokuta', 500))"
   ]
  },
  {
   "cell_type": "markdown",
   "id": "b53beb98",
   "metadata": {},
   "source": [
    "### Example 5"
   ]
  },
  {
   "cell_type": "code",
   "execution_count": 21,
   "id": "073eb9bc",
   "metadata": {},
   "outputs": [],
   "source": [
    "import time\n",
    "import functools\n",
    "\n",
    "def monitor_performance(max_execution_time = 5.0):\n",
    "    \"\"\"Decorator to monitor function performance - useful for Nigerian apps with slow internet\"\"\"\n",
    "    def decorator(func):\n",
    "        @functools.wraps(func) #preserves original function metadata\n",
    "        def wrapper(*args, **kwargs):\n",
    "            start_time = time.time()\n",
    "\n",
    "            print(f'Starting {func.__name__}...')\n",
    "\n",
    "            try:\n",
    "                result = func(*args, **kwargs)\n",
    "                execution_time = time.time() - start_time\n",
    "\n",
    "                if execution_time > max_execution_time:\n",
    "                    print(f'{func.__name__} took {execution_time:.2f}s (slower than expected {max_execution_time}s)')\n",
    "                    print('Consider optimizing for Nigerian internet speeds!')\n",
    "                else:\n",
    "                    print(f'{func.__name__} completed in {execution_time:.2f}s')\n",
    "                return result\n",
    "            \n",
    "            except Exception as e:\n",
    "                execution_time = time.time() - start_time\n",
    "                print(f'{func.__name__} failed after {execution_time:.2f}s: {e}')\n",
    "                raise\n",
    "        return wrapper\n",
    "    return decorator"
   ]
  },
  {
   "cell_type": "markdown",
   "id": "e37bcadd",
   "metadata": {},
   "source": [
    "### Using Pydantic"
   ]
  },
  {
   "cell_type": "code",
   "execution_count": null,
   "id": "8d190323",
   "metadata": {},
   "outputs": [],
   "source": []
  },
  {
   "cell_type": "code",
   "execution_count": null,
   "id": "fdd6749f",
   "metadata": {},
   "outputs": [],
   "source": []
  }
 ],
 "metadata": {
  "kernelspec": {
   "display_name": "a_Backend (3.13.7)",
   "language": "python",
   "name": "python3"
  },
  "language_info": {
   "codemirror_mode": {
    "name": "ipython",
    "version": 3
   },
   "file_extension": ".py",
   "mimetype": "text/x-python",
   "name": "python",
   "nbconvert_exporter": "python",
   "pygments_lexer": "ipython3",
   "version": "3.13.7"
  }
 },
 "nbformat": 4,
 "nbformat_minor": 5
}
