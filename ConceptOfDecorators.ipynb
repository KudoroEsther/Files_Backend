{
 "cells": [
  {
   "cell_type": "markdown",
   "id": "d521e76b",
   "metadata": {},
   "source": [
    "# Decorators "
   ]
  },
  {
   "cell_type": "code",
   "execution_count": null,
   "id": "9e72b183",
   "metadata": {},
   "outputs": [
    {
     "name": "stdout",
     "output_type": "stream",
     "text": [
      "Welcome to our shop\n"
     ]
    }
   ],
   "source": [
    "def greet_customers():\n",
    "    return 'Welcome to our shop'\n",
    "\n",
    "#assigning functions to variables\n",
    "my_greeting = greet_customers\n",
    "print(my_greeting())\n",
    "\n",
    "#passing functions as arguments\n",
    "def use_greeting(greeting_func):\n",
    "    return f'Shopkeeper says: {greeting_func()}'\n",
    "print(use_greeting(greet_customers))"
   ]
  },
  {
   "cell_type": "code",
   "execution_count": 4,
   "id": "e16c4336",
   "metadata": {},
   "outputs": [],
   "source": [
    "def add_nigerian_politeness(original_function):\n",
    "    \"\"\"This decorator adds Nigerian politeness to any greeting\"\"\"\n",
    "    def wrapper():\n",
    "        result = original_function()\n",
    "        return f'Good morning ooo! {result} How is family?'\n",
    "    return wrapper\n",
    "\n",
    "def basic_greeting():\n",
    "    return 'Hello,'"
   ]
  },
  {
   "cell_type": "code",
   "execution_count": 5,
   "id": "4608f334",
   "metadata": {},
   "outputs": [
    {
     "name": "stdout",
     "output_type": "stream",
     "text": [
      "Good morning ooo! Hello, How is family?\n"
     ]
    }
   ],
   "source": [
    "#Applying the decorator manually\n",
    "polite_greeting = add_nigerian_politeness(basic_greeting)\n",
    "print(polite_greeting())"
   ]
  },
  {
   "cell_type": "code",
   "execution_count": 6,
   "id": "30b81373",
   "metadata": {},
   "outputs": [
    {
     "name": "stdout",
     "output_type": "stream",
     "text": [
      "Good morning ooo! Welcome to my provision store How is family?\n"
     ]
    }
   ],
   "source": [
    "#Using the @ symbol (syntactic sugar)\n",
    "@add_nigerian_politeness\n",
    "def shop_greeting():\n",
    "    return 'Welcome to my provision store'\n",
    "\n",
    "print(shop_greeting())"
   ]
  },
  {
   "cell_type": "code",
   "execution_count": 7,
   "id": "d2278fd0",
   "metadata": {},
   "outputs": [],
   "source": [
    "def nigerian_time_greeting(time_of_day):\n",
    "    \"\"\"Decorator that adds appropriate Nigerian greeting based on time\"\"\"\n",
    "    def decorator(original_function):\n",
    "        def wrapper():\n",
    "            if time_of_day == 'morning':\n",
    "                greeting = \"Good morning ooo!\"\n",
    "            elif time_of_day == 'afternoon':\n",
    "                greeting = \"Good afternoon ooo!\"\n",
    "            elif time_of_day == 'evening':\n",
    "                greeting = \"Good evening ooo!\"\n",
    "            else:\n",
    "                greeting ='How far!'\n",
    "            result = original_function()\n",
    "            return f'{greeting} {result}'\n",
    "        return wrapper\n",
    "    return decorator"
   ]
  },
  {
   "cell_type": "code",
   "execution_count": 8,
   "id": "a3c7917d",
   "metadata": {},
   "outputs": [],
   "source": [
    "#Using the decorator with different times\n",
    "@nigerian_time_greeting('morning')\n",
    "def market_greeting():\n",
    "    return 'Welcome to our shop, How can we help you today?'"
   ]
  },
  {
   "cell_type": "code",
   "execution_count": 10,
   "id": "db03141a",
   "metadata": {},
   "outputs": [],
   "source": [
    "@nigerian_time_greeting('night')\n",
    "def restaurant_greeting():\n",
    "    return 'Welcome to our restaurant. What would you like to eat?'"
   ]
  },
  {
   "cell_type": "code",
   "execution_count": 11,
   "id": "d4f3457c",
   "metadata": {},
   "outputs": [
    {
     "name": "stdout",
     "output_type": "stream",
     "text": [
      "Good morning ooo! Welcome to our shop, How can we help you today?\n",
      "How far! Welcome to our restaurant. What would you like to eat?\n"
     ]
    }
   ],
   "source": [
    "print(market_greeting())\n",
    "print(restaurant_greeting())"
   ]
  },
  {
   "cell_type": "code",
   "execution_count": 12,
   "id": "8c529e52",
   "metadata": {},
   "outputs": [],
   "source": [
    "def naira_formatter(currency_symbol = \"₦\"):\n",
    "    \"\"\"Decorator to format prices in Nigerian Naira\"\"\"\n",
    "    def decorator(price_function):\n",
    "        def wrapper(*args, **kwargs):\n",
    "            price = price_function(*args, *kwargs)\n",
    "            return f'{currency_symbol}{price:,}'\n",
    "        return wrapper\n",
    "    return decorator"
   ]
  },
  {
   "cell_type": "code",
   "execution_count": 13,
   "id": "a4421e5b",
   "metadata": {},
   "outputs": [],
   "source": [
    "@naira_formatter()\n",
    "def rice_price():\n",
    "    return 2500"
   ]
  },
  {
   "cell_type": "code",
   "execution_count": 14,
   "id": "0ab88870",
   "metadata": {},
   "outputs": [],
   "source": [
    "@naira_formatter()\n",
    "def calculate_transport_fare(distance_km):\n",
    "    base_fare = 200\n",
    "    per_km = 50\n",
    "    return base_fare + (distance_km * per_km)"
   ]
  },
  {
   "cell_type": "code",
   "execution_count": 15,
   "id": "612bf3cc",
   "metadata": {},
   "outputs": [
    {
     "name": "stdout",
     "output_type": "stream",
     "text": [
      "₦2,500\n",
      "₦550\n"
     ]
    }
   ],
   "source": [
    "print(rice_price())\n",
    "print(calculate_transport_fare(7))"
   ]
  }
 ],
 "metadata": {
  "kernelspec": {
   "display_name": "Python 3",
   "language": "python",
   "name": "python3"
  },
  "language_info": {
   "codemirror_mode": {
    "name": "ipython",
    "version": 3
   },
   "file_extension": ".py",
   "mimetype": "text/x-python",
   "name": "python",
   "nbconvert_exporter": "python",
   "pygments_lexer": "ipython3",
   "version": "3.13.9"
  }
 },
 "nbformat": 4,
 "nbformat_minor": 5
}
